{
 "cells": [
  {
   "cell_type": "code",
   "execution_count": null,
   "metadata": {},
   "outputs": [],
   "source": [
    "-- Creating tables for 2016 Election Results\n",
    "CREATE TABLE Election_Results (\n",
    "    votes16_Donald_Trump int NOT NULL,\n",
    "    votes16_Hillary_Clinton int NOT NULL,\n",
    "\ttotal_votes16 int NOT NULL,\n",
    "\tcounty varchar(40) NOT NULL,\n",
    "\tstate varchar(4) NOT NULL,\n",
    "    PRIMARY KEY (county),\n",
    "    UNIQUE (state)\n",
    ");\n",
    "\n",
    "-- Creating tables for 2020 Election Results\n",
    "CREATE TABLE Election_Results20 (\n",
    "    votes20_Donald_Trump int NOT NULL,\n",
    "    votes20_Joe_Biden int NOT NULL,\n",
    "\ttotal_votes20 int NOT NULL,\n",
    "    county varchar(40) NOT NULL,\n",
    "     \n",
    "\tFOREIGN KEY (county) REFERENCES Election_Results (county),\n",
    "  \tPRIMARY KEY (county)\n",
    ");\n",
    "\n",
    "-- Creating tables for Covid Cases by State\n",
    "CREATE TABLE Covid (\n",
    "\tcases int NOT NULL,\n",
    "\tdeaths int NOT NULL,\n",
    "\tTotalPop int NOT NULL,\n",
    "\tstate varchar(4) NOT NULL,\n",
    "\tcounty varchar(40) NOT NULL,\n",
    "\tFOREIGN KEY (county) REFERENCES Election_Results (county),\n",
    "  \tPRIMARY KEY (county)\n",
    ");\n",
    "\n",
    "-- Creating Tables for Poverty by State\n",
    "CREATE TABLE Poverty(\n",
    "\tPoverty int NOT NULL,\n",
    "\tIncome int NOT NULL,\n",
    "\tIncomePerCap int NOT NULL,\n",
    "\tIncomePerCapErr int NOT NULL,\n",
    "\tstate varchar(4) NOT NULL,\n",
    "\tcounty varchar(40) NOT NULL,\n",
    "\tFOREIGN KEY (county) REFERENCES Election_Results (county),\n",
    "  \tPRIMARY KEY (county)\n",
    ");\n",
    "\n"
   ]
  }
 ],
 "metadata": {
  "kernelspec": {
   "display_name": "Python 3",
   "language": "python",
   "name": "python3"
  },
  "language_info": {
   "codemirror_mode": {
    "name": "ipython",
    "version": 3
   },
   "file_extension": ".py",
   "mimetype": "text/x-python",
   "name": "python",
   "nbconvert_exporter": "python",
   "pygments_lexer": "ipython3",
   "version": "3.7.7"
  }
 },
 "nbformat": 4,
 "nbformat_minor": 4
}

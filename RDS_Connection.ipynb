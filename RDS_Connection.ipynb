{
  "nbformat": 4,
  "nbformat_minor": 0,
  "metadata": {
    "colab": {
      "name": "RDS_Connection.ipynb",
      "provenance": [],
      "collapsed_sections": []
    },
    "kernelspec": {
      "name": "python3",
      "display_name": "Python 3"
    }
  },
  "cells": [
    {
      "cell_type": "code",
      "metadata": {
        "colab": {
          "base_uri": "https://localhost:8080/"
        },
        "id": "QWiV483j1Nsy",
        "outputId": "2ce35eca-0b9a-4772-86b8-72ed533bf41f"
      },
      "source": [
        "import os\n",
        "# Find the latest version of spark 3.0  from http://www-us.apache.org/dist/spark/ and enter as the spark version\n",
        "# For example:\n",
        "# spark_version = 'spark-3.0.1'\n",
        "spark_version = 'spark-3.0.1'\n",
        "os.environ['SPARK_VERSION']=spark_version\n",
        "\n",
        "# Install Spark and Java\n",
        "!apt-get update\n",
        "!apt-get install openjdk-11-jdk-headless -qq > /dev/null\n",
        "!wget -q http://www-us.apache.org/dist/spark/$SPARK_VERSION/$SPARK_VERSION-bin-hadoop2.7.tgz\n",
        "!tar xf $SPARK_VERSION-bin-hadoop2.7.tgz\n",
        "!pip install -q findspark\n",
        "\n",
        "# Set Environment Variables\n",
        "import os\n",
        "os.environ[\"JAVA_HOME\"] = \"/usr/lib/jvm/java-11-openjdk-amd64\"\n",
        "os.environ[\"SPARK_HOME\"] = f\"/content/{spark_version}-bin-hadoop2.7\"\n",
        "\n",
        "# Start a SparkSession\n",
        "import findspark\n",
        "findspark.init()"
      ],
      "execution_count": 1,
      "outputs": [
        {
          "output_type": "stream",
          "text": [
            "Get:1 http://security.ubuntu.com/ubuntu bionic-security InRelease [88.7 kB]\n",
            "Ign:2 https://developer.download.nvidia.com/compute/cuda/repos/ubuntu1804/x86_64  InRelease\n",
            "Get:3 https://cloud.r-project.org/bin/linux/ubuntu bionic-cran40/ InRelease [3,626 B]\n",
            "Get:4 http://ppa.launchpad.net/c2d4u.team/c2d4u4.0+/ubuntu bionic InRelease [15.9 kB]\n",
            "Hit:5 http://archive.ubuntu.com/ubuntu bionic InRelease\n",
            "Ign:6 https://developer.download.nvidia.com/compute/machine-learning/repos/ubuntu1804/x86_64  InRelease\n",
            "Get:7 https://developer.download.nvidia.com/compute/cuda/repos/ubuntu1804/x86_64  Release [697 B]\n",
            "Hit:8 https://developer.download.nvidia.com/compute/machine-learning/repos/ubuntu1804/x86_64  Release\n",
            "Get:9 https://developer.download.nvidia.com/compute/cuda/repos/ubuntu1804/x86_64  Release.gpg [836 B]\n",
            "Get:10 http://archive.ubuntu.com/ubuntu bionic-updates InRelease [88.7 kB]\n",
            "Hit:11 http://ppa.launchpad.net/cran/libgit2/ubuntu bionic InRelease\n",
            "Get:12 http://security.ubuntu.com/ubuntu bionic-security/main amd64 Packages [1,890 kB]\n",
            "Get:13 http://archive.ubuntu.com/ubuntu bionic-backports InRelease [74.6 kB]\n",
            "Hit:14 http://ppa.launchpad.net/graphics-drivers/ppa/ubuntu bionic InRelease\n",
            "Get:15 http://security.ubuntu.com/ubuntu bionic-security/universe amd64 Packages [1,381 kB]\n",
            "Ign:17 https://developer.download.nvidia.com/compute/cuda/repos/ubuntu1804/x86_64  Packages\n",
            "Get:17 https://developer.download.nvidia.com/compute/cuda/repos/ubuntu1804/x86_64  Packages [548 kB]\n",
            "Get:18 http://ppa.launchpad.net/c2d4u.team/c2d4u4.0+/ubuntu bionic/main Sources [1,714 kB]\n",
            "Get:19 http://archive.ubuntu.com/ubuntu bionic-updates/main amd64 Packages [2,310 kB]\n",
            "Get:20 http://ppa.launchpad.net/c2d4u.team/c2d4u4.0+/ubuntu bionic/main amd64 Packages [877 kB]\n",
            "Get:21 http://archive.ubuntu.com/ubuntu bionic-updates/universe amd64 Packages [2,148 kB]\n",
            "Fetched 11.1 MB in 3s (3,360 kB/s)\n",
            "Reading package lists... Done\n"
          ],
          "name": "stdout"
        }
      ]
    },
    {
      "cell_type": "code",
      "metadata": {
        "colab": {
          "base_uri": "https://localhost:8080/"
        },
        "id": "2S5zKhe-1P-t",
        "outputId": "b69761ed-8d3d-44a4-f5dd-fcc45da75565"
      },
      "source": [
        "!wget https://jdbc.postgresql.org/download/postgresql-42.2.16.jar"
      ],
      "execution_count": 2,
      "outputs": [
        {
          "output_type": "stream",
          "text": [
            "--2021-01-19 22:48:04--  https://jdbc.postgresql.org/download/postgresql-42.2.16.jar\n",
            "Resolving jdbc.postgresql.org (jdbc.postgresql.org)... 72.32.157.228, 2001:4800:3e1:1::228\n",
            "Connecting to jdbc.postgresql.org (jdbc.postgresql.org)|72.32.157.228|:443... connected.\n",
            "HTTP request sent, awaiting response... 200 OK\n",
            "Length: 1002883 (979K) [application/java-archive]\n",
            "Saving to: ‘postgresql-42.2.16.jar’\n",
            "\n",
            "postgresql-42.2.16. 100%[===================>] 979.38K  --.-KB/s    in 0.1s    \n",
            "\n",
            "2021-01-19 22:48:05 (6.63 MB/s) - ‘postgresql-42.2.16.jar’ saved [1002883/1002883]\n",
            "\n"
          ],
          "name": "stdout"
        }
      ]
    },
    {
      "cell_type": "code",
      "metadata": {
        "id": "4IlzbxGY1VdD"
      },
      "source": [
        "from pyspark.sql import SparkSession\n",
        "spark = SparkSession.builder.appName(\"CloudETL\").config(\"spark.driver.extraClassPath\",\"/content/postgresql-42.2.16.jar\").getOrCreate()\n"
      ],
      "execution_count": 3,
      "outputs": []
    },
    {
      "cell_type": "code",
      "metadata": {
        "id": "2YGs360_1eTj"
      },
      "source": [
        "# Read in Data from CSV files\n",
        "from pyspark import SparkFiles\n",
        "file1 = \"county_data_cleaned.csv\"\n",
        "spark.sparkContext.addFile(file1)\n",
        "county_df = spark.read.csv(SparkFiles.get(\"county_data_cleaned.csv\"), sep=\",\", header=True, inferSchema=True)"
      ],
      "execution_count": 50,
      "outputs": []
    },
    {
      "cell_type": "code",
      "metadata": {
        "colab": {
          "base_uri": "https://localhost:8080/"
        },
        "id": "GR9UwwxI2HNj",
        "outputId": "b4cb8bd2-8a90-4b98-baad-c9ac656379ca"
      },
      "source": [
        "# Show data\n",
        "county_df.show()"
      ],
      "execution_count": 51,
      "outputs": [
        {
          "output_type": "stream",
          "text": [
            "+---------+-----+--------------------+-----------------------+-------------+-------------+--------------------+-----------------+-------+------+--------+--------+--------+--------+-----+-----+------+-----+-------+-------+------------+-------+------------+\n",
            "|   county|state|votes16_Donald_Trump|votes16_Hillary_Clinton|total_votes16|total_votes20|votes20_Donald_Trump|votes20_Joe_Biden|  cases|deaths|TotalPop|     Men|   Women|Hispanic|White|Black|Native|Asian|Pacific| Income|IncomePerCap|Poverty|Unemployment|\n",
            "+---------+-----+--------------------+-----------------------+-------------+-------------+--------------------+-----------------+-------+------+--------+--------+--------+--------+-----+-----+------+-----+-------+-------+------------+-------+------------+\n",
            "|Abbeville|   SC|              6742.0|                 3712.0|      10724.0|      12433.0|              8215.0|           4101.0|  805.0|  17.0| 24788.0| 12044.0| 12744.0|     1.3| 68.9| 27.6|   0.1|  0.3|    0.0|35254.0|     19234.0|   22.7|         9.4|\n",
            "|   Acadia|   LA|             21159.0|                 5638.0|      27386.0|      28425.0|             22596.0|           5443.0| 3182.0| 102.0| 62607.0| 30433.0| 32174.0|     2.4| 77.5| 17.6|   0.1|  0.1|    0.0|40492.0|     21591.0|   21.5|         8.9|\n",
            "| Accomack|   VA|              8582.0|                 6737.0|      15755.0|      16938.0|              9172.0|           7578.0| 1227.0|  19.0| 32840.0| 16079.0| 16761.0|     8.8| 60.3| 28.3|   0.3|  0.7|    0.0|42260.0|     24266.0|   19.8|         5.4|\n",
            "|      Ada|   ID|             93748.0|                75676.0|     195587.0|     259389.0|            130699.0|         120539.0|17451.0| 181.0|435117.0|217999.0|217118.0|     7.9| 85.2|  1.2|   0.4|  2.6|    0.1|60151.0|     31642.0|   11.8|         4.3|\n",
            "|    Adair|   IA|              2456.0|                 1127.0|       3759.0|       4183.0|              2917.0|           1197.0|  222.0|   1.0|  7192.0|  3552.0|  3640.0|     1.7| 96.6|  0.3|   0.0|  0.4|    0.0|49477.0|     28861.0|    9.5|         3.0|\n",
            "|    Adair|   KY|              6637.0|                 1323.0|       8231.0|       8766.0|              7275.0|           1391.0|  517.0|  22.0| 19304.0|  9632.0|  9672.0|     1.8| 93.4|  3.6|   0.1|  0.1|    0.0|36575.0|     18408.0|   21.5|         6.2|\n",
            "|    Adair|   MO|              6019.0|                 3495.0|      10137.0|      10337.0|              6391.0|           3705.0|  578.0|   0.0| 25437.0| 12013.0| 13424.0|     2.3| 90.5|  2.4|   0.2|  2.3|    0.1|38750.0|     21778.0|   26.2|         5.5|\n",
            "|    Adair|   OK|              4753.0|                 1374.0|       6468.0|       7108.0|              5585.0|           1387.0|  855.0|  11.0| 22136.0| 10987.0| 11149.0|     6.4| 40.8|  0.3|  41.7|  0.6|    0.2|33366.0|     16576.0|   30.8|         5.5|\n",
            "|    Adams|   CO|             73807.0|                86471.0|     175125.0|     234599.0|             94874.0|         132951.0|15538.0| 263.0|487850.0|245840.0|242010.0|    39.3| 51.1|  3.0|   0.5|  3.8|    0.1|64087.0|     27487.0|   12.2|         5.1|\n",
            "|    Adams|   IA|              1393.0|                  565.0|       2082.0|       2158.0|              1528.0|            590.0|   87.0|   1.0|  3785.0|  1870.0|  1915.0|     1.2| 96.8|  0.4|   0.1|  0.6|    0.0|49745.0|     27022.0|   11.2|         4.2|\n",
            "|    Adams|   ID|              1556.0|                  415.0|       2183.0|       2586.0|              1941.0|            591.0|   65.0|   2.0|  3946.0|  2021.0|  1925.0|     3.3| 92.7|  0.3|   1.2|  0.0|    0.2|42727.0|     24315.0|   13.8|         8.7|\n",
            "|    Adams|   IL|             22732.0|                 7633.0|      31770.0|      33434.0|             24131.0|           8569.0| 2223.0|  25.0| 66787.0| 32698.0| 34089.0|     1.5| 92.0|  3.9|   0.2|  0.8|    0.1|48454.0|     27256.0|   13.1|         5.5|\n",
            "|    Adams|   IN|              9642.0|                 2802.0|      13039.0|      14238.0|             10685.0|           3236.0|  704.0|   8.0| 35018.0| 17361.0| 17657.0|     4.4| 93.7|  0.9|   0.0|  0.4|    0.0|48290.0|     21534.0|   18.9|         5.2|\n",
            "|    Adams|   MS|              5125.0|                 6921.0|      12214.0|      12268.0|              5222.0|           6914.0| 1122.0|  45.0| 31583.0| 15680.0| 15903.0|     8.4| 36.9| 52.8|   0.2|  0.6|    0.0|30359.0|     17721.0|   34.2|        10.9|\n",
            "|    Adams|   ND|               904.0|                  216.0|       1206.0|       1269.0|               981.0|            258.0|   91.0|   0.0|  2368.0|  1168.0|  1200.0|     0.5| 93.0|  1.6|   1.1|  2.6|    0.0|54700.0|     35933.0|    9.2|         1.6|\n",
            "|    Adams|   NE|              9205.0|                 3272.0|      13172.0|      14602.0|             10085.0|           4213.0|  922.0|  15.0| 31564.0| 15981.0| 15583.0|     9.4| 86.9|  0.6|   0.1|  1.3|    0.0|51721.0|     28085.0|   12.4|         4.2|\n",
            "|    Adams|   OH|              8445.0|                 2293.0|      11063.0|      11905.0|              9660.0|           2130.0|  270.0|   6.0| 27926.0| 13960.0| 13966.0|     1.0| 96.6|  0.4|   0.6|  0.2|    0.0|36320.0|     20248.0|   23.8|         7.5|\n",
            "|    Adams|   PA|             31249.0|                14077.0|      47138.0|      56627.0|             37563.0|          18250.0| 1184.0|  31.0|101589.0| 50055.0| 51534.0|     6.8| 89.5|  1.4|   0.0|  0.7|    0.0|62661.0|     29685.0|    8.8|         4.9|\n",
            "|    Adams|   WA|              2740.0|                 1118.0|       4081.0|       5109.0|              3449.0|           1562.0|  935.0|  11.0| 19261.0|  9750.0|  9511.0|    62.3| 35.2|  0.3|   0.4|  1.0|    0.0|48131.0|     18415.0|   23.1|         5.9|\n",
            "|    Adams|   WI|              5983.0|                 3780.0|      10107.0|      11818.0|              7362.0|           4329.0|  587.0|   5.0| 20111.0| 10770.0|  9341.0|     3.8| 90.7|  2.7|   0.6|  0.5|    0.0|44003.0|     24874.0|   13.0|         8.1|\n",
            "+---------+-----+--------------------+-----------------------+-------------+-------------+--------------------+-----------------+-------+------+--------+--------+--------+--------+-----+-----+------+-----+-------+-------+------------+-------+------------+\n",
            "only showing top 20 rows\n",
            "\n"
          ],
          "name": "stdout"
        }
      ]
    },
    {
      "cell_type": "code",
      "metadata": {
        "id": "G3PgqK8r2OoO"
      },
      "source": [
        "# Read in Data from CSV files\n",
        "from pyspark import SparkFiles\n",
        "file2 = \"Covid_data.csv\"\n",
        "spark.sparkContext.addFile(file2)\n",
        "covid_df = spark.read.csv(SparkFiles.get(\"Covid_data.csv\"), sep=\",\", header=True, inferSchema=True)"
      ],
      "execution_count": 52,
      "outputs": []
    },
    {
      "cell_type": "code",
      "metadata": {
        "colab": {
          "base_uri": "https://localhost:8080/"
        },
        "id": "yNNDkX393DOm",
        "outputId": "88f34225-1a24-4e3d-ce7b-ba81d347294c"
      },
      "source": [
        "#Show Covid Data\n",
        "covid_df.show()"
      ],
      "execution_count": 53,
      "outputs": [
        {
          "output_type": "stream",
          "text": [
            "+---------+-----+-------+------+--------+\n",
            "|   county|state|  cases|deaths|TotalPop|\n",
            "+---------+-----+-------+------+--------+\n",
            "|Abbeville|   SC|  805.0|  17.0| 24788.0|\n",
            "|   Acadia|   LA| 3182.0| 102.0| 62607.0|\n",
            "| Accomack|   VA| 1227.0|  19.0| 32840.0|\n",
            "|      Ada|   ID|17451.0| 181.0|435117.0|\n",
            "|    Adair|   IA|  222.0|   1.0|  7192.0|\n",
            "|    Adair|   KY|  517.0|  22.0| 19304.0|\n",
            "|    Adair|   MO|  578.0|   0.0| 25437.0|\n",
            "|    Adair|   OK|  855.0|  11.0| 22136.0|\n",
            "|    Adams|   CO|15538.0| 263.0|487850.0|\n",
            "|    Adams|   IA|   87.0|   1.0|  3785.0|\n",
            "|    Adams|   ID|   65.0|   2.0|  3946.0|\n",
            "|    Adams|   IL| 2223.0|  25.0| 66787.0|\n",
            "|    Adams|   IN|  704.0|   8.0| 35018.0|\n",
            "|    Adams|   MS| 1122.0|  45.0| 31583.0|\n",
            "|    Adams|   ND|   91.0|   0.0|  2368.0|\n",
            "|    Adams|   NE|  922.0|  15.0| 31564.0|\n",
            "|    Adams|   OH|  270.0|   6.0| 27926.0|\n",
            "|    Adams|   PA| 1184.0|  31.0|101589.0|\n",
            "|    Adams|   WA|  935.0|  11.0| 19261.0|\n",
            "|    Adams|   WI|  587.0|   5.0| 20111.0|\n",
            "+---------+-----+-------+------+--------+\n",
            "only showing top 20 rows\n",
            "\n"
          ],
          "name": "stdout"
        }
      ]
    },
    {
      "cell_type": "code",
      "metadata": {
        "id": "0maNImPH3bM0"
      },
      "source": [
        "# Read in Data from CSV files\n",
        "from pyspark import SparkFiles\n",
        "file3 = \"Demographics.csv\"\n",
        "spark.sparkContext.addFile(file3)\n",
        "Demographics_df = spark.read.csv(SparkFiles.get(\"Demographics.csv\"), sep=\",\", header=True, inferSchema=True)"
      ],
      "execution_count": 54,
      "outputs": []
    },
    {
      "cell_type": "code",
      "metadata": {
        "colab": {
          "base_uri": "https://localhost:8080/"
        },
        "id": "WVAusdv03ueZ",
        "outputId": "34892804-99fd-420c-8d8d-4ec6dabdb62c"
      },
      "source": [
        "# Show Demographics data\n",
        "Demographics_df.show()"
      ],
      "execution_count": 55,
      "outputs": [
        {
          "output_type": "stream",
          "text": [
            "+---------+-----+--------+--------+-----+-----+------+-----+-------+\n",
            "|   county|state|TotalPop|Hispanic|White|Black|Native|Asian|Pacific|\n",
            "+---------+-----+--------+--------+-----+-----+------+-----+-------+\n",
            "|Abbeville|   SC| 24788.0|     1.3| 68.9| 27.6|   0.1|  0.3|    0.0|\n",
            "|   Acadia|   LA| 62607.0|     2.4| 77.5| 17.6|   0.1|  0.1|    0.0|\n",
            "| Accomack|   VA| 32840.0|     8.8| 60.3| 28.3|   0.3|  0.7|    0.0|\n",
            "|      Ada|   ID|435117.0|     7.9| 85.2|  1.2|   0.4|  2.6|    0.1|\n",
            "|    Adair|   IA|  7192.0|     1.7| 96.6|  0.3|   0.0|  0.4|    0.0|\n",
            "|    Adair|   KY| 19304.0|     1.8| 93.4|  3.6|   0.1|  0.1|    0.0|\n",
            "|    Adair|   MO| 25437.0|     2.3| 90.5|  2.4|   0.2|  2.3|    0.1|\n",
            "|    Adair|   OK| 22136.0|     6.4| 40.8|  0.3|  41.7|  0.6|    0.2|\n",
            "|    Adams|   CO|487850.0|    39.3| 51.1|  3.0|   0.5|  3.8|    0.1|\n",
            "|    Adams|   IA|  3785.0|     1.2| 96.8|  0.4|   0.1|  0.6|    0.0|\n",
            "|    Adams|   ID|  3946.0|     3.3| 92.7|  0.3|   1.2|  0.0|    0.2|\n",
            "|    Adams|   IL| 66787.0|     1.5| 92.0|  3.9|   0.2|  0.8|    0.1|\n",
            "|    Adams|   IN| 35018.0|     4.4| 93.7|  0.9|   0.0|  0.4|    0.0|\n",
            "|    Adams|   MS| 31583.0|     8.4| 36.9| 52.8|   0.2|  0.6|    0.0|\n",
            "|    Adams|   ND|  2368.0|     0.5| 93.0|  1.6|   1.1|  2.6|    0.0|\n",
            "|    Adams|   NE| 31564.0|     9.4| 86.9|  0.6|   0.1|  1.3|    0.0|\n",
            "|    Adams|   OH| 27926.0|     1.0| 96.6|  0.4|   0.6|  0.2|    0.0|\n",
            "|    Adams|   PA|101589.0|     6.8| 89.5|  1.4|   0.0|  0.7|    0.0|\n",
            "|    Adams|   WA| 19261.0|    62.3| 35.2|  0.3|   0.4|  1.0|    0.0|\n",
            "|    Adams|   WI| 20111.0|     3.8| 90.7|  2.7|   0.6|  0.5|    0.0|\n",
            "+---------+-----+--------+--------+-----+-----+------+-----+-------+\n",
            "only showing top 20 rows\n",
            "\n"
          ],
          "name": "stdout"
        }
      ]
    },
    {
      "cell_type": "code",
      "metadata": {
        "id": "fDJ5me7331nS"
      },
      "source": [
        "# Read in Data from CSV files\n",
        "from pyspark import SparkFiles\n",
        "file4 = \"Election_Results16.csv\"\n",
        "spark.sparkContext.addFile(file4)\n",
        "Election_Results16_df = spark.read.csv(SparkFiles.get(\"Election_Results16.csv\"), sep=\",\", header=True, inferSchema=True)"
      ],
      "execution_count": 56,
      "outputs": []
    },
    {
      "cell_type": "code",
      "metadata": {
        "colab": {
          "base_uri": "https://localhost:8080/"
        },
        "id": "YBHbA9vQ4HUj",
        "outputId": "68988fb4-9084-47e9-a13b-3a68b419a63f"
      },
      "source": [
        "# Show Election Results for 2016\n",
        "Election_Results16_df.show()"
      ],
      "execution_count": 57,
      "outputs": [
        {
          "output_type": "stream",
          "text": [
            "+---------+-----+--------------------+-----------------------+-------------+\n",
            "|   county|state|votes16_Donald_Trump|votes16_Hillary_Clinton|total_votes16|\n",
            "+---------+-----+--------------------+-----------------------+-------------+\n",
            "|Abbeville|   SC|              6742.0|                 3712.0|      10724.0|\n",
            "|   Acadia|   LA|             21159.0|                 5638.0|      27386.0|\n",
            "| Accomack|   VA|              8582.0|                 6737.0|      15755.0|\n",
            "|      Ada|   ID|             93748.0|                75676.0|     195587.0|\n",
            "|    Adair|   IA|              2456.0|                 1127.0|       3759.0|\n",
            "|    Adair|   KY|              6637.0|                 1323.0|       8231.0|\n",
            "|    Adair|   MO|              6019.0|                 3495.0|      10137.0|\n",
            "|    Adair|   OK|              4753.0|                 1374.0|       6468.0|\n",
            "|    Adams|   CO|             73807.0|                86471.0|     175125.0|\n",
            "|    Adams|   IA|              1393.0|                  565.0|       2082.0|\n",
            "|    Adams|   ID|              1556.0|                  415.0|       2183.0|\n",
            "|    Adams|   IL|             22732.0|                 7633.0|      31770.0|\n",
            "|    Adams|   IN|              9642.0|                 2802.0|      13039.0|\n",
            "|    Adams|   MS|              5125.0|                 6921.0|      12214.0|\n",
            "|    Adams|   ND|               904.0|                  216.0|       1206.0|\n",
            "|    Adams|   NE|              9205.0|                 3272.0|      13172.0|\n",
            "|    Adams|   OH|              8445.0|                 2293.0|      11063.0|\n",
            "|    Adams|   PA|             31249.0|                14077.0|      47138.0|\n",
            "|    Adams|   WA|              2740.0|                 1118.0|       4081.0|\n",
            "|    Adams|   WI|              5983.0|                 3780.0|      10107.0|\n",
            "+---------+-----+--------------------+-----------------------+-------------+\n",
            "only showing top 20 rows\n",
            "\n"
          ],
          "name": "stdout"
        }
      ]
    },
    {
      "cell_type": "code",
      "metadata": {
        "id": "18DU8Q954LSQ"
      },
      "source": [
        "# Read in Data from CSV files\n",
        "from pyspark import SparkFiles\n",
        "file5 = \"Election_Results20.csv\"\n",
        "spark.sparkContext.addFile(file5)\n",
        "Election_Results20_df = spark.read.csv(SparkFiles.get(\"Election_Results20.csv\"), sep=\",\", header=True, inferSchema=True)"
      ],
      "execution_count": 58,
      "outputs": []
    },
    {
      "cell_type": "code",
      "metadata": {
        "colab": {
          "base_uri": "https://localhost:8080/"
        },
        "id": "DMVu9nY24Pa6",
        "outputId": "e449c2bf-7c9a-4fc3-848a-85046a508ff5"
      },
      "source": [
        "# Show Election Results from 2020\n",
        "Election_Results20_df.show()"
      ],
      "execution_count": 59,
      "outputs": [
        {
          "output_type": "stream",
          "text": [
            "+---------+-----+-------------+--------------------+-----------------+\n",
            "|   county|state|total_votes20|votes20_Donald_Trump|votes20_Joe_Biden|\n",
            "+---------+-----+-------------+--------------------+-----------------+\n",
            "|Abbeville|   SC|      12433.0|              8215.0|           4101.0|\n",
            "|   Acadia|   LA|      28425.0|             22596.0|           5443.0|\n",
            "| Accomack|   VA|      16938.0|              9172.0|           7578.0|\n",
            "|      Ada|   ID|     259389.0|            130699.0|         120539.0|\n",
            "|    Adair|   IA|       4183.0|              2917.0|           1197.0|\n",
            "|    Adair|   KY|       8766.0|              7275.0|           1391.0|\n",
            "|    Adair|   MO|      10337.0|              6391.0|           3705.0|\n",
            "|    Adair|   OK|       7108.0|              5585.0|           1387.0|\n",
            "|    Adams|   CO|     234599.0|             94874.0|         132951.0|\n",
            "|    Adams|   IA|       2158.0|              1528.0|            590.0|\n",
            "|    Adams|   ID|       2586.0|              1941.0|            591.0|\n",
            "|    Adams|   IL|      33434.0|             24131.0|           8569.0|\n",
            "|    Adams|   IN|      14238.0|             10685.0|           3236.0|\n",
            "|    Adams|   MS|      12268.0|              5222.0|           6914.0|\n",
            "|    Adams|   ND|       1269.0|               981.0|            258.0|\n",
            "|    Adams|   NE|      14602.0|             10085.0|           4213.0|\n",
            "|    Adams|   OH|      11905.0|              9660.0|           2130.0|\n",
            "|    Adams|   PA|      56627.0|             37563.0|          18250.0|\n",
            "|    Adams|   WA|       5109.0|              3449.0|           1562.0|\n",
            "|    Adams|   WI|      11818.0|              7362.0|           4329.0|\n",
            "+---------+-----+-------------+--------------------+-----------------+\n",
            "only showing top 20 rows\n",
            "\n"
          ],
          "name": "stdout"
        }
      ]
    },
    {
      "cell_type": "code",
      "metadata": {
        "id": "3VObtd804dfO"
      },
      "source": [
        "# Read in Data from CSV files\n",
        "from pyspark import SparkFiles\n",
        "file6 = \"Gender.csv\"\n",
        "spark.sparkContext.addFile(file6)\n",
        "Gender_df = spark.read.csv(SparkFiles.get(\"Gender.csv\"), sep=\",\", header=True, inferSchema=True)"
      ],
      "execution_count": 60,
      "outputs": []
    },
    {
      "cell_type": "code",
      "metadata": {
        "colab": {
          "base_uri": "https://localhost:8080/"
        },
        "id": "HMhgdu_r4jPE",
        "outputId": "be964ea6-2aa5-4529-d00d-c3ac328d624e"
      },
      "source": [
        "# Show Gender data\n",
        "Gender_df.show()"
      ],
      "execution_count": 61,
      "outputs": [
        {
          "output_type": "stream",
          "text": [
            "+---------+-----+--------+--------+\n",
            "|   county|state|     Men|   Women|\n",
            "+---------+-----+--------+--------+\n",
            "|Abbeville|   SC| 12044.0| 12744.0|\n",
            "|   Acadia|   LA| 30433.0| 32174.0|\n",
            "| Accomack|   VA| 16079.0| 16761.0|\n",
            "|      Ada|   ID|217999.0|217118.0|\n",
            "|    Adair|   IA|  3552.0|  3640.0|\n",
            "|    Adair|   KY|  9632.0|  9672.0|\n",
            "|    Adair|   MO| 12013.0| 13424.0|\n",
            "|    Adair|   OK| 10987.0| 11149.0|\n",
            "|    Adams|   CO|245840.0|242010.0|\n",
            "|    Adams|   IA|  1870.0|  1915.0|\n",
            "|    Adams|   ID|  2021.0|  1925.0|\n",
            "|    Adams|   IL| 32698.0| 34089.0|\n",
            "|    Adams|   IN| 17361.0| 17657.0|\n",
            "|    Adams|   MS| 15680.0| 15903.0|\n",
            "|    Adams|   ND|  1168.0|  1200.0|\n",
            "|    Adams|   NE| 15981.0| 15583.0|\n",
            "|    Adams|   OH| 13960.0| 13966.0|\n",
            "|    Adams|   PA| 50055.0| 51534.0|\n",
            "|    Adams|   WA|  9750.0|  9511.0|\n",
            "|    Adams|   WI| 10770.0|  9341.0|\n",
            "+---------+-----+--------+--------+\n",
            "only showing top 20 rows\n",
            "\n"
          ],
          "name": "stdout"
        }
      ]
    },
    {
      "cell_type": "code",
      "metadata": {
        "id": "idEwjYSk4nZ_"
      },
      "source": [
        "# Read in Data from CSV files\n",
        "from pyspark import SparkFiles\n",
        "file7 = \"Wealth_distribution.csv\"\n",
        "spark.sparkContext.addFile(file7)\n",
        "Wealth_distribution_df = spark.read.csv(SparkFiles.get(\"Wealth_distribution.csv\"), sep=\",\", header=True, inferSchema=True)"
      ],
      "execution_count": 62,
      "outputs": []
    },
    {
      "cell_type": "code",
      "metadata": {
        "colab": {
          "base_uri": "https://localhost:8080/"
        },
        "id": "nUyOXeOP4vDG",
        "outputId": "e3c59188-7c1e-4755-b951-bab319b5326a"
      },
      "source": [
        "# Show Wealth distribution data\n",
        "Wealth_distribution_df.show()"
      ],
      "execution_count": 63,
      "outputs": [
        {
          "output_type": "stream",
          "text": [
            "+---------+-----+-------+-------+------------+------------+\n",
            "|   county|state|Poverty| Income|IncomePerCap|Unemployment|\n",
            "+---------+-----+-------+-------+------------+------------+\n",
            "|Abbeville|   SC|   22.7|35254.0|     19234.0|         9.4|\n",
            "|   Acadia|   LA|   21.5|40492.0|     21591.0|         8.9|\n",
            "| Accomack|   VA|   19.8|42260.0|     24266.0|         5.4|\n",
            "|      Ada|   ID|   11.8|60151.0|     31642.0|         4.3|\n",
            "|    Adair|   IA|    9.5|49477.0|     28861.0|         3.0|\n",
            "|    Adair|   KY|   21.5|36575.0|     18408.0|         6.2|\n",
            "|    Adair|   MO|   26.2|38750.0|     21778.0|         5.5|\n",
            "|    Adair|   OK|   30.8|33366.0|     16576.0|         5.5|\n",
            "|    Adams|   CO|   12.2|64087.0|     27487.0|         5.1|\n",
            "|    Adams|   IA|   11.2|49745.0|     27022.0|         4.2|\n",
            "|    Adams|   ID|   13.8|42727.0|     24315.0|         8.7|\n",
            "|    Adams|   IL|   13.1|48454.0|     27256.0|         5.5|\n",
            "|    Adams|   IN|   18.9|48290.0|     21534.0|         5.2|\n",
            "|    Adams|   MS|   34.2|30359.0|     17721.0|        10.9|\n",
            "|    Adams|   ND|    9.2|54700.0|     35933.0|         1.6|\n",
            "|    Adams|   NE|   12.4|51721.0|     28085.0|         4.2|\n",
            "|    Adams|   OH|   23.8|36320.0|     20248.0|         7.5|\n",
            "|    Adams|   PA|    8.8|62661.0|     29685.0|         4.9|\n",
            "|    Adams|   WA|   23.1|48131.0|     18415.0|         5.9|\n",
            "|    Adams|   WI|   13.0|44003.0|     24874.0|         8.1|\n",
            "+---------+-----+-------+-------+------------+------------+\n",
            "only showing top 20 rows\n",
            "\n"
          ],
          "name": "stdout"
        }
      ]
    },
    {
      "cell_type": "code",
      "metadata": {
        "colab": {
          "base_uri": "https://localhost:8080/"
        },
        "id": "Vr8s_Ups4zJc",
        "outputId": "52588253-2c3a-4cfa-c622-6dc5f07a2e7b"
      },
      "source": [
        "# Join 2020 Election with Covid data\n",
        "Covid_2020_joined= Election_Results20_df.join(covid_df, on= [\"state\", \"county\"], how= \"left\")\n",
        "Covid_2020_joined.show()"
      ],
      "execution_count": 28,
      "outputs": [
        {
          "output_type": "stream",
          "text": [
            "+-----+---------+-------------+--------------------+-----------------+-------+------+--------+\n",
            "|state|   county|total_votes20|votes20_Donald_Trump|votes20_Joe_Biden|  cases|deaths|TotalPop|\n",
            "+-----+---------+-------------+--------------------+-----------------+-------+------+--------+\n",
            "|   SC|Abbeville|      12433.0|              8215.0|           4101.0|  805.0|  17.0| 24788.0|\n",
            "|   LA|   Acadia|      28425.0|             22596.0|           5443.0| 3182.0| 102.0| 62607.0|\n",
            "|   VA| Accomack|      16938.0|              9172.0|           7578.0| 1227.0|  19.0| 32840.0|\n",
            "|   ID|      Ada|     259389.0|            130699.0|         120539.0|17451.0| 181.0|435117.0|\n",
            "|   IA|    Adair|       4183.0|              2917.0|           1197.0|  222.0|   1.0|  7192.0|\n",
            "|   KY|    Adair|       8766.0|              7275.0|           1391.0|  517.0|  22.0| 19304.0|\n",
            "|   MO|    Adair|      10337.0|              6391.0|           3705.0|  578.0|   0.0| 25437.0|\n",
            "|   OK|    Adair|       7108.0|              5585.0|           1387.0|  855.0|  11.0| 22136.0|\n",
            "|   CO|    Adams|     234599.0|             94874.0|         132951.0|15538.0| 263.0|487850.0|\n",
            "|   IA|    Adams|       2158.0|              1528.0|            590.0|   87.0|   1.0|  3785.0|\n",
            "|   ID|    Adams|       2586.0|              1941.0|            591.0|   65.0|   2.0|  3946.0|\n",
            "|   IL|    Adams|      33434.0|             24131.0|           8569.0| 2223.0|  25.0| 66787.0|\n",
            "|   IN|    Adams|      14238.0|             10685.0|           3236.0|  704.0|   8.0| 35018.0|\n",
            "|   MS|    Adams|      12268.0|              5222.0|           6914.0| 1122.0|  45.0| 31583.0|\n",
            "|   ND|    Adams|       1269.0|               981.0|            258.0|   91.0|   0.0|  2368.0|\n",
            "|   NE|    Adams|      14602.0|             10085.0|           4213.0|  922.0|  15.0| 31564.0|\n",
            "|   OH|    Adams|      11905.0|              9660.0|           2130.0|  270.0|   6.0| 27926.0|\n",
            "|   PA|    Adams|      56627.0|             37563.0|          18250.0| 1184.0|  31.0|101589.0|\n",
            "|   WA|    Adams|       5109.0|              3449.0|           1562.0|  935.0|  11.0| 19261.0|\n",
            "|   WI|    Adams|      11818.0|              7362.0|           4329.0|  587.0|   5.0| 20111.0|\n",
            "+-----+---------+-------------+--------------------+-----------------+-------+------+--------+\n",
            "only showing top 20 rows\n",
            "\n"
          ],
          "name": "stdout"
        }
      ]
    },
    {
      "cell_type": "code",
      "metadata": {
        "colab": {
          "base_uri": "https://localhost:8080/"
        },
        "id": "Vuz6QqcA5e7y",
        "outputId": "9e54e659-dd15-4262-ca32-29dab507aca4"
      },
      "source": [
        "# Join Demographics with Covid Data\n",
        "Covid_Demo_joined= Demographics_df.join(covid_df, on= [\"state\", \"county\", \"TotalPop\"], how= \"left\")\n",
        "Covid_Demo_joined.show()"
      ],
      "execution_count": 47,
      "outputs": [
        {
          "output_type": "stream",
          "text": [
            "+-----+---------+--------+--------+-----+-----+------+-----+-------+-------+------+\n",
            "|state|   county|TotalPop|Hispanic|White|Black|Native|Asian|Pacific|  cases|deaths|\n",
            "+-----+---------+--------+--------+-----+-----+------+-----+-------+-------+------+\n",
            "|   SC|Abbeville| 24788.0|     1.3| 68.9| 27.6|   0.1|  0.3|    0.0|  805.0|  17.0|\n",
            "|   LA|   Acadia| 62607.0|     2.4| 77.5| 17.6|   0.1|  0.1|    0.0| 3182.0| 102.0|\n",
            "|   VA| Accomack| 32840.0|     8.8| 60.3| 28.3|   0.3|  0.7|    0.0| 1227.0|  19.0|\n",
            "|   ID|      Ada|435117.0|     7.9| 85.2|  1.2|   0.4|  2.6|    0.1|17451.0| 181.0|\n",
            "|   IA|    Adair|  7192.0|     1.7| 96.6|  0.3|   0.0|  0.4|    0.0|  222.0|   1.0|\n",
            "|   KY|    Adair| 19304.0|     1.8| 93.4|  3.6|   0.1|  0.1|    0.0|  517.0|  22.0|\n",
            "|   MO|    Adair| 25437.0|     2.3| 90.5|  2.4|   0.2|  2.3|    0.1|  578.0|   0.0|\n",
            "|   OK|    Adair| 22136.0|     6.4| 40.8|  0.3|  41.7|  0.6|    0.2|  855.0|  11.0|\n",
            "|   CO|    Adams|487850.0|    39.3| 51.1|  3.0|   0.5|  3.8|    0.1|15538.0| 263.0|\n",
            "|   IA|    Adams|  3785.0|     1.2| 96.8|  0.4|   0.1|  0.6|    0.0|   87.0|   1.0|\n",
            "|   ID|    Adams|  3946.0|     3.3| 92.7|  0.3|   1.2|  0.0|    0.2|   65.0|   2.0|\n",
            "|   IL|    Adams| 66787.0|     1.5| 92.0|  3.9|   0.2|  0.8|    0.1| 2223.0|  25.0|\n",
            "|   IN|    Adams| 35018.0|     4.4| 93.7|  0.9|   0.0|  0.4|    0.0|  704.0|   8.0|\n",
            "|   MS|    Adams| 31583.0|     8.4| 36.9| 52.8|   0.2|  0.6|    0.0| 1122.0|  45.0|\n",
            "|   ND|    Adams|  2368.0|     0.5| 93.0|  1.6|   1.1|  2.6|    0.0|   91.0|   0.0|\n",
            "|   NE|    Adams| 31564.0|     9.4| 86.9|  0.6|   0.1|  1.3|    0.0|  922.0|  15.0|\n",
            "|   OH|    Adams| 27926.0|     1.0| 96.6|  0.4|   0.6|  0.2|    0.0|  270.0|   6.0|\n",
            "|   PA|    Adams|101589.0|     6.8| 89.5|  1.4|   0.0|  0.7|    0.0| 1184.0|  31.0|\n",
            "|   WA|    Adams| 19261.0|    62.3| 35.2|  0.3|   0.4|  1.0|    0.0|  935.0|  11.0|\n",
            "|   WI|    Adams| 20111.0|     3.8| 90.7|  2.7|   0.6|  0.5|    0.0|  587.0|   5.0|\n",
            "+-----+---------+--------+--------+-----+-----+------+-----+-------+-------+------+\n",
            "only showing top 20 rows\n",
            "\n"
          ],
          "name": "stdout"
        }
      ]
    },
    {
      "cell_type": "code",
      "metadata": {
        "colab": {
          "base_uri": "https://localhost:8080/"
        },
        "id": "Lt2Fpvz859be",
        "outputId": "aacc5d23-c4a3-46dd-89a8-f3b3cf9f5e2e"
      },
      "source": [
        "# Join Wealth Distribution with Covid Data\n",
        "Covid_Wealth_joined= Wealth_distribution_df.join(covid_df, on= [\"state\", \"county\"], how= \"left\")\n",
        "Covid_Wealth_joined.show()"
      ],
      "execution_count": 31,
      "outputs": [
        {
          "output_type": "stream",
          "text": [
            "+-----+---------+-------+-------+------------+------------+-------+------+--------+\n",
            "|state|   county|Poverty| Income|IncomePerCap|Unemployment|  cases|deaths|TotalPop|\n",
            "+-----+---------+-------+-------+------------+------------+-------+------+--------+\n",
            "|   SC|Abbeville|   22.7|35254.0|     19234.0|         9.4|  805.0|  17.0| 24788.0|\n",
            "|   LA|   Acadia|   21.5|40492.0|     21591.0|         8.9| 3182.0| 102.0| 62607.0|\n",
            "|   VA| Accomack|   19.8|42260.0|     24266.0|         5.4| 1227.0|  19.0| 32840.0|\n",
            "|   ID|      Ada|   11.8|60151.0|     31642.0|         4.3|17451.0| 181.0|435117.0|\n",
            "|   IA|    Adair|    9.5|49477.0|     28861.0|         3.0|  222.0|   1.0|  7192.0|\n",
            "|   KY|    Adair|   21.5|36575.0|     18408.0|         6.2|  517.0|  22.0| 19304.0|\n",
            "|   MO|    Adair|   26.2|38750.0|     21778.0|         5.5|  578.0|   0.0| 25437.0|\n",
            "|   OK|    Adair|   30.8|33366.0|     16576.0|         5.5|  855.0|  11.0| 22136.0|\n",
            "|   CO|    Adams|   12.2|64087.0|     27487.0|         5.1|15538.0| 263.0|487850.0|\n",
            "|   IA|    Adams|   11.2|49745.0|     27022.0|         4.2|   87.0|   1.0|  3785.0|\n",
            "|   ID|    Adams|   13.8|42727.0|     24315.0|         8.7|   65.0|   2.0|  3946.0|\n",
            "|   IL|    Adams|   13.1|48454.0|     27256.0|         5.5| 2223.0|  25.0| 66787.0|\n",
            "|   IN|    Adams|   18.9|48290.0|     21534.0|         5.2|  704.0|   8.0| 35018.0|\n",
            "|   MS|    Adams|   34.2|30359.0|     17721.0|        10.9| 1122.0|  45.0| 31583.0|\n",
            "|   ND|    Adams|    9.2|54700.0|     35933.0|         1.6|   91.0|   0.0|  2368.0|\n",
            "|   NE|    Adams|   12.4|51721.0|     28085.0|         4.2|  922.0|  15.0| 31564.0|\n",
            "|   OH|    Adams|   23.8|36320.0|     20248.0|         7.5|  270.0|   6.0| 27926.0|\n",
            "|   PA|    Adams|    8.8|62661.0|     29685.0|         4.9| 1184.0|  31.0|101589.0|\n",
            "|   WA|    Adams|   23.1|48131.0|     18415.0|         5.9|  935.0|  11.0| 19261.0|\n",
            "|   WI|    Adams|   13.0|44003.0|     24874.0|         8.1|  587.0|   5.0| 20111.0|\n",
            "+-----+---------+-------+-------+------------+------------+-------+------+--------+\n",
            "only showing top 20 rows\n",
            "\n"
          ],
          "name": "stdout"
        }
      ]
    },
    {
      "cell_type": "code",
      "metadata": {
        "colab": {
          "base_uri": "https://localhost:8080/"
        },
        "id": "h0C1tA666JmQ",
        "outputId": "8328e77e-fbeb-4310-e650-f5de350c0edd"
      },
      "source": [
        "# Join Election results 2016 with 2020\n",
        "Elections_joined= Election_Results16_df.join(Election_Results20_df, on= [\"state\", \"county\"], how= \"left\")\n",
        "Elections_joined.show()"
      ],
      "execution_count": 32,
      "outputs": [
        {
          "output_type": "stream",
          "text": [
            "+-----+---------+--------------------+-----------------------+-------------+-------------+--------------------+-----------------+\n",
            "|state|   county|votes16_Donald_Trump|votes16_Hillary_Clinton|total_votes16|total_votes20|votes20_Donald_Trump|votes20_Joe_Biden|\n",
            "+-----+---------+--------------------+-----------------------+-------------+-------------+--------------------+-----------------+\n",
            "|   SC|Abbeville|              6742.0|                 3712.0|      10724.0|      12433.0|              8215.0|           4101.0|\n",
            "|   LA|   Acadia|             21159.0|                 5638.0|      27386.0|      28425.0|             22596.0|           5443.0|\n",
            "|   VA| Accomack|              8582.0|                 6737.0|      15755.0|      16938.0|              9172.0|           7578.0|\n",
            "|   ID|      Ada|             93748.0|                75676.0|     195587.0|     259389.0|            130699.0|         120539.0|\n",
            "|   IA|    Adair|              2456.0|                 1127.0|       3759.0|       4183.0|              2917.0|           1197.0|\n",
            "|   KY|    Adair|              6637.0|                 1323.0|       8231.0|       8766.0|              7275.0|           1391.0|\n",
            "|   MO|    Adair|              6019.0|                 3495.0|      10137.0|      10337.0|              6391.0|           3705.0|\n",
            "|   OK|    Adair|              4753.0|                 1374.0|       6468.0|       7108.0|              5585.0|           1387.0|\n",
            "|   CO|    Adams|             73807.0|                86471.0|     175125.0|     234599.0|             94874.0|         132951.0|\n",
            "|   IA|    Adams|              1393.0|                  565.0|       2082.0|       2158.0|              1528.0|            590.0|\n",
            "|   ID|    Adams|              1556.0|                  415.0|       2183.0|       2586.0|              1941.0|            591.0|\n",
            "|   IL|    Adams|             22732.0|                 7633.0|      31770.0|      33434.0|             24131.0|           8569.0|\n",
            "|   IN|    Adams|              9642.0|                 2802.0|      13039.0|      14238.0|             10685.0|           3236.0|\n",
            "|   MS|    Adams|              5125.0|                 6921.0|      12214.0|      12268.0|              5222.0|           6914.0|\n",
            "|   ND|    Adams|               904.0|                  216.0|       1206.0|       1269.0|               981.0|            258.0|\n",
            "|   NE|    Adams|              9205.0|                 3272.0|      13172.0|      14602.0|             10085.0|           4213.0|\n",
            "|   OH|    Adams|              8445.0|                 2293.0|      11063.0|      11905.0|              9660.0|           2130.0|\n",
            "|   PA|    Adams|             31249.0|                14077.0|      47138.0|      56627.0|             37563.0|          18250.0|\n",
            "|   WA|    Adams|              2740.0|                 1118.0|       4081.0|       5109.0|              3449.0|           1562.0|\n",
            "|   WI|    Adams|              5983.0|                 3780.0|      10107.0|      11818.0|              7362.0|           4329.0|\n",
            "+-----+---------+--------------------+-----------------------+-------------+-------------+--------------------+-----------------+\n",
            "only showing top 20 rows\n",
            "\n"
          ],
          "name": "stdout"
        }
      ]
    },
    {
      "cell_type": "code",
      "metadata": {
        "id": "jArgVaFL6iyr"
      },
      "source": [
        "# Configure settings for RDS\n",
        "mode = \"append\"\n",
        "jdbc_url=\"jdbc:postgresql://election-results.cfpmzdtom7fa.us-east-1.rds.amazonaws.com:5432/postgres\"\n",
        "config = {\"user\":\"postgres\",\n",
        "          \"password\": \"Election1\",\n",
        "          \"driver\":\"org.postgresql.Driver\"}"
      ],
      "execution_count": 41,
      "outputs": []
    },
    {
      "cell_type": "code",
      "metadata": {
        "id": "yDhrG6rb8HkQ"
      },
      "source": [
        "# Write DataFrame to election_joined table in RDS\n",
        "Elections_joined.write.jdbc(url=jdbc_url, table='Election_joined', mode=mode, properties=config)"
      ],
      "execution_count": 44,
      "outputs": []
    },
    {
      "cell_type": "code",
      "metadata": {
        "id": "D7Qg-YzS8hkm"
      },
      "source": [
        "# Write DataFrame to Covid_Wealth_joined table in RDS\n",
        "Covid_Wealth_joined.write.jdbc(url=jdbc_url, table='Covid_Wealth_joined', mode=mode, properties=config)"
      ],
      "execution_count": 45,
      "outputs": []
    },
    {
      "cell_type": "code",
      "metadata": {
        "id": "wfKm1EJb-B4H"
      },
      "source": [
        "# Write DataFrame to Covid_Demo_joined table in RDS\n",
        "Covid_Demo_joined.write.jdbc(url=jdbc_url, table='Covid_Demo_joined', mode=mode, properties=config)"
      ],
      "execution_count": 48,
      "outputs": []
    },
    {
      "cell_type": "code",
      "metadata": {
        "id": "qmieHdbv-gwk"
      },
      "source": [
        "# Write DataFrame to Covid_2020_joined table in RDS\n",
        "Covid_2020_joined.write.jdbc(url=jdbc_url, table='Covid_2020_joined', mode=mode, properties=config)"
      ],
      "execution_count": 49,
      "outputs": []
    },
    {
      "cell_type": "code",
      "metadata": {
        "id": "O8vMLcie_GF5"
      },
      "source": [
        ""
      ],
      "execution_count": null,
      "outputs": []
    }
  ]
}
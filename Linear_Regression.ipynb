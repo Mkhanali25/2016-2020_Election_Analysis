{
 "cells": [
  {
   "cell_type": "code",
   "execution_count": 2,
   "metadata": {},
   "outputs": [
    {
     "data": {
      "text/html": [
       "<div>\n",
       "<style scoped>\n",
       "    .dataframe tbody tr th:only-of-type {\n",
       "        vertical-align: middle;\n",
       "    }\n",
       "\n",
       "    .dataframe tbody tr th {\n",
       "        vertical-align: top;\n",
       "    }\n",
       "\n",
       "    .dataframe thead th {\n",
       "        text-align: right;\n",
       "    }\n",
       "</style>\n",
       "<table border=\"1\" class=\"dataframe\">\n",
       "  <thead>\n",
       "    <tr style=\"text-align: right;\">\n",
       "      <th></th>\n",
       "      <th>county</th>\n",
       "      <th>state</th>\n",
       "      <th>votes16_Donald_Trump</th>\n",
       "      <th>votes16_Hillary_Clinton</th>\n",
       "      <th>total_votes16</th>\n",
       "      <th>total_votes20</th>\n",
       "      <th>votes20_Donald_Trump</th>\n",
       "      <th>votes20_Joe_Biden</th>\n",
       "      <th>cases</th>\n",
       "      <th>deaths</th>\n",
       "      <th>TotalPop</th>\n",
       "      <th>Poverty</th>\n",
       "      <th>Income</th>\n",
       "      <th>IncomePerCap</th>\n",
       "      <th>IncomePerCapErr</th>\n",
       "    </tr>\n",
       "  </thead>\n",
       "  <tbody>\n",
       "    <tr>\n",
       "      <th>0</th>\n",
       "      <td>Abbeville</td>\n",
       "      <td>SC</td>\n",
       "      <td>6742.0</td>\n",
       "      <td>3712.0</td>\n",
       "      <td>10724.0</td>\n",
       "      <td>12433.0</td>\n",
       "      <td>8215.0</td>\n",
       "      <td>4101.0</td>\n",
       "      <td>805.0</td>\n",
       "      <td>17.0</td>\n",
       "      <td>24788.0</td>\n",
       "      <td>22.7</td>\n",
       "      <td>35254.0</td>\n",
       "      <td>19234.0</td>\n",
       "      <td>799.0</td>\n",
       "    </tr>\n",
       "    <tr>\n",
       "      <th>1</th>\n",
       "      <td>Acadia</td>\n",
       "      <td>LA</td>\n",
       "      <td>21159.0</td>\n",
       "      <td>5638.0</td>\n",
       "      <td>27386.0</td>\n",
       "      <td>28425.0</td>\n",
       "      <td>22596.0</td>\n",
       "      <td>5443.0</td>\n",
       "      <td>3182.0</td>\n",
       "      <td>102.0</td>\n",
       "      <td>62607.0</td>\n",
       "      <td>21.5</td>\n",
       "      <td>40492.0</td>\n",
       "      <td>21591.0</td>\n",
       "      <td>1002.0</td>\n",
       "    </tr>\n",
       "    <tr>\n",
       "      <th>2</th>\n",
       "      <td>Accomack</td>\n",
       "      <td>VA</td>\n",
       "      <td>8582.0</td>\n",
       "      <td>6737.0</td>\n",
       "      <td>15755.0</td>\n",
       "      <td>16938.0</td>\n",
       "      <td>9172.0</td>\n",
       "      <td>7578.0</td>\n",
       "      <td>1227.0</td>\n",
       "      <td>19.0</td>\n",
       "      <td>32840.0</td>\n",
       "      <td>19.8</td>\n",
       "      <td>42260.0</td>\n",
       "      <td>24266.0</td>\n",
       "      <td>1564.0</td>\n",
       "    </tr>\n",
       "    <tr>\n",
       "      <th>3</th>\n",
       "      <td>Ada</td>\n",
       "      <td>ID</td>\n",
       "      <td>93748.0</td>\n",
       "      <td>75676.0</td>\n",
       "      <td>195587.0</td>\n",
       "      <td>259389.0</td>\n",
       "      <td>130699.0</td>\n",
       "      <td>120539.0</td>\n",
       "      <td>17451.0</td>\n",
       "      <td>181.0</td>\n",
       "      <td>435117.0</td>\n",
       "      <td>11.8</td>\n",
       "      <td>60151.0</td>\n",
       "      <td>31642.0</td>\n",
       "      <td>725.0</td>\n",
       "    </tr>\n",
       "    <tr>\n",
       "      <th>4</th>\n",
       "      <td>Adair</td>\n",
       "      <td>IA</td>\n",
       "      <td>2456.0</td>\n",
       "      <td>1127.0</td>\n",
       "      <td>3759.0</td>\n",
       "      <td>4183.0</td>\n",
       "      <td>2917.0</td>\n",
       "      <td>1197.0</td>\n",
       "      <td>222.0</td>\n",
       "      <td>1.0</td>\n",
       "      <td>7192.0</td>\n",
       "      <td>9.5</td>\n",
       "      <td>49477.0</td>\n",
       "      <td>28861.0</td>\n",
       "      <td>2055.0</td>\n",
       "    </tr>\n",
       "  </tbody>\n",
       "</table>\n",
       "</div>"
      ],
      "text/plain": [
       "      county state  votes16_Donald_Trump  votes16_Hillary_Clinton  \\\n",
       "0  Abbeville    SC                6742.0                   3712.0   \n",
       "1     Acadia    LA               21159.0                   5638.0   \n",
       "2   Accomack    VA                8582.0                   6737.0   \n",
       "3        Ada    ID               93748.0                  75676.0   \n",
       "4      Adair    IA                2456.0                   1127.0   \n",
       "\n",
       "   total_votes16  total_votes20  votes20_Donald_Trump  votes20_Joe_Biden  \\\n",
       "0        10724.0        12433.0                8215.0             4101.0   \n",
       "1        27386.0        28425.0               22596.0             5443.0   \n",
       "2        15755.0        16938.0                9172.0             7578.0   \n",
       "3       195587.0       259389.0              130699.0           120539.0   \n",
       "4         3759.0         4183.0                2917.0             1197.0   \n",
       "\n",
       "     cases  deaths  TotalPop  Poverty   Income  IncomePerCap  IncomePerCapErr  \n",
       "0    805.0    17.0   24788.0     22.7  35254.0       19234.0            799.0  \n",
       "1   3182.0   102.0   62607.0     21.5  40492.0       21591.0           1002.0  \n",
       "2   1227.0    19.0   32840.0     19.8  42260.0       24266.0           1564.0  \n",
       "3  17451.0   181.0  435117.0     11.8  60151.0       31642.0            725.0  \n",
       "4    222.0     1.0    7192.0      9.5  49477.0       28861.0           2055.0  "
      ]
     },
     "execution_count": 2,
     "metadata": {},
     "output_type": "execute_result"
    }
   ],
   "source": [
    "import pandas as pd\n",
    "from pathlib import Path\n",
    "import matplotlib.pyplot as plt\n",
    "from sklearn.linear_model import LinearRegression\n",
    "#  Import and read the county_data.csv.\n",
    "county_df = pd.read_csv(\"county_data_cleaned.csv\")\n",
    "county_df.head()"
   ]
  },
  {
   "cell_type": "code",
   "execution_count": 5,
   "metadata": {},
   "outputs": [
    {
     "data": {
      "image/png": "[encoded data removed]",
      "text/plain": [
       "<Figure size 432x288 with 1 Axes>"
      ]
     },
     "metadata": {
      "needs_background": "light"
     },
     "output_type": "display_data"
    }
   ],
   "source": [
    "plt.scatter(county_df.TotalPop, county_df.cases)\n",
    "plt.xlabel('cases')\n",
    "plt.ylabel('TotalPop')\n",
    "plt.show()"
   ]
  },
  {
   "cell_type": "code",
   "execution_count": 25,
   "metadata": {},
   "outputs": [],
   "source": [
    "X = county_df.cases.values.reshape(-1, 1)"
   ]
  },
  {
   "cell_type": "code",
   "execution_count": 26,
   "metadata": {},
   "outputs": [
    {
     "data": {
      "text/plain": [
       "array([[  805.],\n",
       "       [ 3182.],\n",
       "       [ 1227.],\n",
       "       [17451.],\n",
       "       [  222.]])"
      ]
     },
     "execution_count": 26,
     "metadata": {},
     "output_type": "execute_result"
    }
   ],
   "source": [
    "X[:5]"
   ]
  },
  {
   "cell_type": "code",
   "execution_count": 27,
   "metadata": {},
   "outputs": [
    {
     "data": {
      "text/plain": [
       "(3047, 1)"
      ]
     },
     "execution_count": 27,
     "metadata": {},
     "output_type": "execute_result"
    }
   ],
   "source": [
    "X.shape"
   ]
  },
  {
   "cell_type": "code",
   "execution_count": 29,
   "metadata": {},
   "outputs": [],
   "source": [
    "y = county_df.TotalPop"
   ]
  },
  {
   "cell_type": "code",
   "execution_count": 30,
   "metadata": {},
   "outputs": [],
   "source": [
    "model = LinearRegression()"
   ]
  },
  {
   "cell_type": "code",
   "execution_count": 31,
   "metadata": {},
   "outputs": [
    {
     "data": {
      "text/plain": [
       "LinearRegression()"
      ]
     },
     "execution_count": 31,
     "metadata": {},
     "output_type": "execute_result"
    }
   ],
   "source": [
    "model.fit(X, y)"
   ]
  },
  {
   "cell_type": "code",
   "execution_count": 32,
   "metadata": {},
   "outputs": [
    {
     "name": "stdout",
     "output_type": "stream",
     "text": [
      "(3047,)\n"
     ]
    }
   ],
   "source": [
    "y_pred = model.predict(X)\n",
    "print(y_pred.shape)"
   ]
  },
  {
   "cell_type": "code",
   "execution_count": 33,
   "metadata": {},
   "outputs": [
    {
     "data": {
      "image/png": "[encoded data removed]",
      "text/plain": [
       "<Figure size 432x288 with 1 Axes>"
      ]
     },
     "metadata": {
      "needs_background": "light"
     },
     "output_type": "display_data"
    }
   ],
   "source": [
    "plt.scatter(X, y)\n",
    "plt.plot(X, y_pred, color='red')\n",
    "plt.show()"
   ]
  },
  {
   "cell_type": "code",
   "execution_count": 34,
   "metadata": {},
   "outputs": [
    {
     "name": "stdout",
     "output_type": "stream",
     "text": [
      "[29.12394376]\n",
      "17863.13091605532\n"
     ]
    }
   ],
   "source": [
    "print(model.coef_)\n",
    "print(model.intercept_)"
   ]
  },
  {
   "cell_type": "code",
   "execution_count": null,
   "metadata": {},
   "outputs": [],
   "source": []
  }
 ],
 "metadata": {
  "kernelspec": {
   "display_name": "mlenv",
   "language": "python",
   "name": "mlenv"
  },
  "language_info": {
   "codemirror_mode": {
    "name": "ipython",
    "version": 3
   },
   "file_extension": ".py",
   "mimetype": "text/x-python",
   "name": "python",
   "nbconvert_exporter": "python",
   "pygments_lexer": "ipython3",
   "version": "3.7.7"
  }
 },
 "nbformat": 4,
 "nbformat_minor": 4
}
